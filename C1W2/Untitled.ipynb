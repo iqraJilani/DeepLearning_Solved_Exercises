{
 "cells": [
  {
   "cell_type": "code",
   "execution_count": 1,
   "id": "d70d1ad5",
   "metadata": {},
   "outputs": [
    {
     "ename": "ModuleNotFoundError",
     "evalue": "No module named 'mysql'",
     "output_type": "error",
     "traceback": [
      "\u001b[0;31m---------------------------------------------------------------------------\u001b[0m",
      "\u001b[0;31mModuleNotFoundError\u001b[0m                       Traceback (most recent call last)",
      "\u001b[0;32m/tmp/ipykernel_39483/801316406.py\u001b[0m in \u001b[0;36m<module>\u001b[0;34m\u001b[0m\n\u001b[1;32m      1\u001b[0m \u001b[0;31m# db connection\u001b[0m\u001b[0;34m\u001b[0m\u001b[0;34m\u001b[0m\u001b[0m\n\u001b[0;32m----> 2\u001b[0;31m \u001b[0;32mimport\u001b[0m \u001b[0mmysql\u001b[0m\u001b[0;34m.\u001b[0m\u001b[0mconnector\u001b[0m\u001b[0;34m\u001b[0m\u001b[0;34m\u001b[0m\u001b[0m\n\u001b[0m\u001b[1;32m      3\u001b[0m \u001b[0;32mfrom\u001b[0m \u001b[0mpandas\u001b[0m \u001b[0;32mimport\u001b[0m \u001b[0mread_sql\u001b[0m\u001b[0;34m\u001b[0m\u001b[0;34m\u001b[0m\u001b[0m\n\u001b[1;32m      4\u001b[0m \u001b[0;32mimport\u001b[0m \u001b[0mwarnings\u001b[0m\u001b[0;34m\u001b[0m\u001b[0;34m\u001b[0m\u001b[0m\n\u001b[1;32m      5\u001b[0m \u001b[0mwarnings\u001b[0m\u001b[0;34m.\u001b[0m\u001b[0mfilterwarnings\u001b[0m\u001b[0;34m(\u001b[0m\u001b[0;34m\"ignore\"\u001b[0m\u001b[0;34m)\u001b[0m\u001b[0;34m\u001b[0m\u001b[0;34m\u001b[0m\u001b[0m\n",
      "\u001b[0;31mModuleNotFoundError\u001b[0m: No module named 'mysql'"
     ]
    }
   ],
   "source": [
    "# db connection \n",
    "import mysql.connector\n",
    "from pandas import read_sql\n",
    "import warnings\n",
    "warnings.filterwarnings(\"ignore\")\n",
    "import time\n",
    "db_HOST='134.122.39.227'\n",
    "db_PORT='3306'\n",
    "DATABASE='navldev'\n",
    "db_USER='navladmin'\n",
    "db_PASSWORD='AHnzmQAeBUXG9e9'\n",
    "contract_methods = [\n",
    "    \"acceptBidForPunk\",\n",
    "     \"buyPunk\",\n",
    "    ]\n",
    "contract_methods = str(contract_methods)[1:-1]\n",
    "def create_connection():\n",
    "    #establishing the connection\n",
    "    conn = mysql.connector.connect(\n",
    "    user=db_USER,\n",
    "    password=db_PASSWORD,\n",
    "    host=db_HOST,\n",
    "    port=db_PORT,\n",
    "    database=DATABASE,\n",
    "    )\n",
    "    return conn\n",
    "def execute_sql(\n",
    "    query,\n",
    "    conn=None,\n",
    "    cursor=None,\n",
    "    close_connection=True,\n",
    "    fetch_records=False,\n",
    "    ):\n",
    "    if not conn:\n",
    "        conn = create_connection()\n",
    "        cursor = conn.cursor()\n",
    "    if fetch_records:\n",
    "        data = read_sql(query, con=conn)\n",
    "        if close_connection:\n",
    "            conn.close()\n",
    "        return data\n",
    "    else:\n",
    "        try:\n",
    "            cursor.execute(query)\n",
    "            conn.commit()\n",
    "        except Exception as e:\n",
    "            print ('Query Execution Failed!')\n",
    "            conn.rollback()\n",
    "            conn.close()\n",
    "            raise e\n",
    "        if close_connection:\n",
    "            conn.close()"
   ]
  },
  {
   "cell_type": "code",
   "execution_count": null,
   "id": "ac6d192d",
   "metadata": {},
   "outputs": [],
   "source": []
  }
 ],
 "metadata": {
  "kernelspec": {
   "display_name": "Python 3 (ipykernel)",
   "language": "python",
   "name": "python3"
  },
  "language_info": {
   "codemirror_mode": {
    "name": "ipython",
    "version": 3
   },
   "file_extension": ".py",
   "mimetype": "text/x-python",
   "name": "python",
   "nbconvert_exporter": "python",
   "pygments_lexer": "ipython3",
   "version": "3.9.7"
  }
 },
 "nbformat": 4,
 "nbformat_minor": 5
}
